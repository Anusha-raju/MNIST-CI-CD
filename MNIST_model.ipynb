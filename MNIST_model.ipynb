{
  "nbformat": 4,
  "nbformat_minor": 0,
  "metadata": {
    "colab": {
      "provenance": []
    },
    "kernelspec": {
      "name": "python3",
      "display_name": "Python 3"
    },
    "language_info": {
      "name": "python"
    }
  },
  "cells": [
    {
      "cell_type": "code",
      "execution_count": 1,
      "metadata": {
        "id": "GLEKy2HH4K1U"
      },
      "outputs": [],
      "source": [
        "from __future__ import print_function\n",
        "import torch\n",
        "import torch.nn as nn\n",
        "import torch.nn.functional as F\n",
        "import torch.optim as optim\n",
        "from torchvision import datasets, transforms"
      ]
    },
    {
      "cell_type": "code",
      "source": [
        "class Net(nn.Module):\n",
        "    def __init__(self):\n",
        "        super(Net, self).__init__()\n",
        "        self.conv1 = nn.Conv2d(1, 16, 3, padding=1)\n",
        "        self.conv2 = nn.Conv2d(16, 16, 3, padding=1)\n",
        "        self.pool1 = nn.MaxPool2d(2, 2)\n",
        "        self.conv3 = nn.Conv2d(16, 32, 3, padding=1)\n",
        "        self.conv4 = nn.Conv2d(32, 16, 3, padding=1)\n",
        "        self.pool2 = nn.MaxPool2d(2, 2)\n",
        "        self.conv5 = nn.Conv2d(16, 16, 3, padding=1)\n",
        "        self.conv6 = nn.Conv2d(16, 32, 3)\n",
        "\n",
        "        # Replace conv7 with a 1x1 kernel instead of a 3x3 kernel\n",
        "        self.conv7 = nn.Conv2d(32, 10, 1)  # 1x1 kernel\n",
        "\n",
        "        # Define dropout with 10% probability\n",
        "        self.dropout = nn.Dropout(p=0.15)  # 15% dropout rate\n",
        "\n",
        "        # Define Batch Normalization layers\n",
        "        self.bn1 = nn.BatchNorm2d(16)  # BatchNorm for the output of conv1\n",
        "        self.bn2 = nn.BatchNorm2d(16)  # BatchNorm for the output of conv2\n",
        "        self.bn3 = nn.BatchNorm2d(32)  # BatchNorm for the output of conv3\n",
        "        self.bn4 = nn.BatchNorm2d(16)  # BatchNorm for the output of conv4\n",
        "        self.bn5 = nn.BatchNorm2d(16) # BatchNorm for the output of conv5\n",
        "        self.bn6 = nn.BatchNorm2d(32) # BatchNorm for the output of conv6\n",
        "\n",
        "        # Global Average Pooling layer\n",
        "        self.gap = nn.AdaptiveAvgPool2d(1)  # Reduces each feature map to 1x1\n",
        "\n",
        "    def forward(self, x):\n",
        "        # First convolution block with BatchNorm, ReLU, and Dropout\n",
        "        x = self.pool1(F.relu(self.bn2(self.conv2(F.relu(self.bn1(self.conv1(x)))))))  # Conv1 -> BN -> ReLU -> Conv2 -> BN -> ReLU -> Pool1\n",
        "        x = self.dropout(x)  # Apply dropout after activation\n",
        "\n",
        "        # Second convolution block with BatchNorm, ReLU, and Dropout\n",
        "        x = self.pool2(F.relu(self.bn4(self.conv4(F.relu(self.bn3(self.conv3(x)))))))  # Conv3 -> BN -> ReLU -> Conv4 -> BN -> ReLU -> Pool2\n",
        "        x = self.dropout(x)  # Apply dropout after activation\n",
        "\n",
        "        # Third convolution block with BatchNorm, ReLU, and Dropout\n",
        "        x = F.relu(self.bn6(self.conv6(F.relu(self.bn5(self.conv5(x))))))  # Conv5 -> BN -> ReLU -> Conv6 -> BN -> ReLU\n",
        "        x = self.dropout(x)  # Apply dropout after activation\n",
        "\n",
        "        # Apply Global Average Pooling (GAP) to reduce each feature map to 1x1\n",
        "        x = self.gap(x)  # Now the size of x is (batch_size, 128, 1, 1)\n",
        "\n",
        "        # Flatten the output to feed into the final fully connected layer\n",
        "        x = x.view(x.size(0), -1)  # Flatten to (batch_size, 128)\n",
        "\n",
        "        # Final convolution layer (now with 1x1 kernel)\n",
        "        # x = self.conv7(x.unsqueeze(-1).unsqueeze(-1))  # Convert the flattened vector into a form for conv7 (needs to be (batch_size, 128, 1, 1))\n",
        "\n",
        "        # Return log softmax for classification output\n",
        "        return F.log_softmax(x, dim=1)  # Log softmax for classification output\n"
      ],
      "metadata": {
        "id": "3Ag2IxP54NyM"
      },
      "execution_count": 2,
      "outputs": []
    },
    {
      "cell_type": "code",
      "source": [
        "# !pip install torchsummary\n",
        "from torchsummary import summary\n",
        "use_cuda = torch.cuda.is_available()\n",
        "device = torch.device(\"cuda\" if use_cuda else \"cpu\")\n",
        "model = Net().to(device)\n",
        "summary(model, input_size=(1, 28, 28))\n"
      ],
      "metadata": {
        "colab": {
          "base_uri": "https://localhost:8080/"
        },
        "id": "Nq6GbuBY4OHe",
        "outputId": "2af8bdad-9aac-4ebb-a238-7192b855a2d7"
      },
      "execution_count": 3,
      "outputs": [
        {
          "output_type": "stream",
          "name": "stdout",
          "text": [
            "----------------------------------------------------------------\n",
            "        Layer (type)               Output Shape         Param #\n",
            "================================================================\n",
            "            Conv2d-1           [-1, 16, 28, 28]             160\n",
            "       BatchNorm2d-2           [-1, 16, 28, 28]              32\n",
            "            Conv2d-3           [-1, 16, 28, 28]           2,320\n",
            "       BatchNorm2d-4           [-1, 16, 28, 28]              32\n",
            "         MaxPool2d-5           [-1, 16, 14, 14]               0\n",
            "           Dropout-6           [-1, 16, 14, 14]               0\n",
            "            Conv2d-7           [-1, 32, 14, 14]           4,640\n",
            "       BatchNorm2d-8           [-1, 32, 14, 14]              64\n",
            "            Conv2d-9           [-1, 16, 14, 14]           4,624\n",
            "      BatchNorm2d-10           [-1, 16, 14, 14]              32\n",
            "        MaxPool2d-11             [-1, 16, 7, 7]               0\n",
            "          Dropout-12             [-1, 16, 7, 7]               0\n",
            "           Conv2d-13             [-1, 16, 7, 7]           2,320\n",
            "      BatchNorm2d-14             [-1, 16, 7, 7]              32\n",
            "           Conv2d-15             [-1, 32, 5, 5]           4,640\n",
            "      BatchNorm2d-16             [-1, 32, 5, 5]              64\n",
            "          Dropout-17             [-1, 32, 5, 5]               0\n",
            "AdaptiveAvgPool2d-18             [-1, 32, 1, 1]               0\n",
            "================================================================\n",
            "Total params: 18,960\n",
            "Trainable params: 18,960\n",
            "Non-trainable params: 0\n",
            "----------------------------------------------------------------\n",
            "Input size (MB): 0.00\n",
            "Forward/backward pass size (MB): 0.62\n",
            "Params size (MB): 0.07\n",
            "Estimated Total Size (MB): 0.69\n",
            "----------------------------------------------------------------\n"
          ]
        }
      ]
    },
    {
      "cell_type": "code",
      "source": [
        "\n",
        "\n",
        "torch.manual_seed(1)\n",
        "batch_size = 128\n",
        "\n",
        "kwargs = {'num_workers': 1, 'pin_memory': True} if use_cuda else {}\n",
        "train_loader = torch.utils.data.DataLoader(\n",
        "    datasets.MNIST('../data', train=True, download=True,\n",
        "                    transform=transforms.Compose([\n",
        "                        transforms.ToTensor(),\n",
        "                        transforms.Normalize((0.1307,), (0.3081,))\n",
        "                    ])),\n",
        "    batch_size=batch_size, shuffle=True, **kwargs)\n",
        "test_loader = torch.utils.data.DataLoader(\n",
        "    datasets.MNIST('../data', train=False, transform=transforms.Compose([\n",
        "                        transforms.ToTensor(),\n",
        "                        transforms.Normalize((0.1307,), (0.3081,))\n",
        "                    ])),\n",
        "    batch_size=batch_size, shuffle=True, **kwargs)\n"
      ],
      "metadata": {
        "id": "l3uc23TG4QEJ"
      },
      "execution_count": 4,
      "outputs": []
    },
    {
      "cell_type": "code",
      "source": [
        "# torch.manual_seed(1)\n",
        "# batch_size = 128\n",
        "\n",
        "# train_transform = transforms.Compose([\n",
        "#     transforms.RandomRotation(20),                # Randomly rotate images by up to 20 degrees\n",
        "#     transforms.RandomAffine(0,                    # Randomly apply affine transformations\n",
        "#                            translate=(0.2, 0.2),    # Randomly shift images by up to 20%\n",
        "#                            shear=20),            # Fill black for empty areas\n",
        "#     transforms.RandomResizedCrop(28, scale=(0.8, 1.2)), # Random zoom/crop\n",
        "#     transforms.ToTensor(),                        # Convert to tensor\n",
        "#     transforms.Normalize((0.1307,), (0.3081,))     # Normalize\n",
        "# ])\n",
        "\n",
        "# # Define training and testing datasets with transformations\n",
        "# train_loader = torch.utils.data.DataLoader(\n",
        "#     datasets.MNIST('../data', train=True, download=True,\n",
        "#                    transform=train_transform),\n",
        "#     batch_size=batch_size, shuffle=True, **kwargs\n",
        "# )\n",
        "\n",
        "# test_loader = torch.utils.data.DataLoader(\n",
        "#     datasets.MNIST('../data', train=False,\n",
        "#                    transform=transforms.Compose([\n",
        "#                        transforms.ToTensor(),\n",
        "#                        transforms.Normalize((0.1307,), (0.3081,))\n",
        "#                    ])),\n",
        "#     batch_size=batch_size, shuffle=False, **kwargs\n",
        "# )"
      ],
      "metadata": {
        "id": "S8ZeJV-YeBrm"
      },
      "execution_count": null,
      "outputs": []
    },
    {
      "cell_type": "code",
      "source": [
        "from tqdm import tqdm\n",
        "def train(model, device, train_loader, optimizer, epoch):\n",
        "    model.train()\n",
        "    pbar = tqdm(train_loader)\n",
        "    for batch_idx, (data, target) in enumerate(pbar):\n",
        "        data, target = data.to(device), target.to(device)\n",
        "        optimizer.zero_grad()\n",
        "        output = model(data)\n",
        "        loss = F.nll_loss(output, target)\n",
        "        loss.backward()\n",
        "        optimizer.step()\n",
        "        pbar.set_description(desc= f'loss={loss.item()} batch_id={batch_idx}')\n",
        "\n",
        "\n",
        "def test(model, device, test_loader):\n",
        "    model.eval()\n",
        "    test_loss = 0\n",
        "    correct = 0\n",
        "    with torch.no_grad():\n",
        "        for data, target in test_loader:\n",
        "            data, target = data.to(device), target.to(device)\n",
        "            output = model(data)\n",
        "            test_loss += F.nll_loss(output, target, reduction='sum').item()  # sum up batch loss\n",
        "            pred = output.argmax(dim=1, keepdim=True)  # get the index of the max log-probability\n",
        "            correct += pred.eq(target.view_as(pred)).sum().item()\n",
        "\n",
        "    test_loss /= len(test_loader.dataset)\n",
        "\n",
        "    print('\\nTest set: Average loss: {:.4f}, Accuracy: {}/{} ({:.4f}%)\\n'.format(\n",
        "        test_loss, correct, len(test_loader.dataset),\n",
        "        100. * correct / len(test_loader.dataset)))\n",
        "    return 100. * correct / len(test_loader.dataset)"
      ],
      "metadata": {
        "id": "2uyZixh24S13"
      },
      "execution_count": 5,
      "outputs": []
    },
    {
      "cell_type": "code",
      "source": [
        "\n",
        "model = Net().to(device)\n",
        "optimizer = optim.SGD(model.parameters(), lr=0.01, momentum=0.9)\n",
        "\n",
        "for epoch in range(1, 20):\n",
        "    print(\"EPOCH: \",epoch)\n",
        "    train(model, device, train_loader, optimizer, epoch)\n",
        "    accuracy = test(model, device, test_loader)\n",
        "    if accuracy >= 99.4:\n",
        "      break"
      ],
      "metadata": {
        "colab": {
          "base_uri": "https://localhost:8080/"
        },
        "id": "tSP0SHFD4UyH",
        "outputId": "b6caa548-2678-47c8-fb1c-be61bf1fcf0e"
      },
      "execution_count": 6,
      "outputs": [
        {
          "output_type": "stream",
          "name": "stdout",
          "text": [
            "EPOCH:  1\n"
          ]
        },
        {
          "output_type": "stream",
          "name": "stderr",
          "text": [
            "loss=0.10297595709562302 batch_id=468: 100%|██████████| 469/469 [01:40<00:00,  4.65it/s]\n"
          ]
        },
        {
          "output_type": "stream",
          "name": "stdout",
          "text": [
            "\n",
            "Test set: Average loss: 0.1136, Accuracy: 9781/10000 (97.8100%)\n",
            "\n",
            "EPOCH:  2\n"
          ]
        },
        {
          "output_type": "stream",
          "name": "stderr",
          "text": [
            "loss=0.11357773095369339 batch_id=468: 100%|██████████| 469/469 [01:38<00:00,  4.75it/s]\n"
          ]
        },
        {
          "output_type": "stream",
          "name": "stdout",
          "text": [
            "\n",
            "Test set: Average loss: 0.2572, Accuracy: 9242/10000 (92.4200%)\n",
            "\n",
            "EPOCH:  3\n"
          ]
        },
        {
          "output_type": "stream",
          "name": "stderr",
          "text": [
            "loss=0.042977988719940186 batch_id=468: 100%|██████████| 469/469 [01:40<00:00,  4.69it/s]\n"
          ]
        },
        {
          "output_type": "stream",
          "name": "stdout",
          "text": [
            "\n",
            "Test set: Average loss: 0.0491, Accuracy: 9882/10000 (98.8200%)\n",
            "\n",
            "EPOCH:  4\n"
          ]
        },
        {
          "output_type": "stream",
          "name": "stderr",
          "text": [
            "loss=0.09455662220716476 batch_id=468: 100%|██████████| 469/469 [01:39<00:00,  4.71it/s]\n"
          ]
        },
        {
          "output_type": "stream",
          "name": "stdout",
          "text": [
            "\n",
            "Test set: Average loss: 0.0639, Accuracy: 9829/10000 (98.2900%)\n",
            "\n",
            "EPOCH:  5\n"
          ]
        },
        {
          "output_type": "stream",
          "name": "stderr",
          "text": [
            "loss=0.0995449498295784 batch_id=468: 100%|██████████| 469/469 [01:41<00:00,  4.63it/s]\n"
          ]
        },
        {
          "output_type": "stream",
          "name": "stdout",
          "text": [
            "\n",
            "Test set: Average loss: 0.0335, Accuracy: 9902/10000 (99.0200%)\n",
            "\n",
            "EPOCH:  6\n"
          ]
        },
        {
          "output_type": "stream",
          "name": "stderr",
          "text": [
            "loss=0.03818140923976898 batch_id=468: 100%|██████████| 469/469 [01:40<00:00,  4.69it/s]\n"
          ]
        },
        {
          "output_type": "stream",
          "name": "stdout",
          "text": [
            "\n",
            "Test set: Average loss: 0.0354, Accuracy: 9913/10000 (99.1300%)\n",
            "\n",
            "EPOCH:  7\n"
          ]
        },
        {
          "output_type": "stream",
          "name": "stderr",
          "text": [
            "loss=0.018259121105074883 batch_id=468: 100%|██████████| 469/469 [01:40<00:00,  4.66it/s]\n"
          ]
        },
        {
          "output_type": "stream",
          "name": "stdout",
          "text": [
            "\n",
            "Test set: Average loss: 0.0285, Accuracy: 9921/10000 (99.2100%)\n",
            "\n",
            "EPOCH:  8\n"
          ]
        },
        {
          "output_type": "stream",
          "name": "stderr",
          "text": [
            "loss=0.04147778078913689 batch_id=468: 100%|██████████| 469/469 [01:40<00:00,  4.69it/s]\n"
          ]
        },
        {
          "output_type": "stream",
          "name": "stdout",
          "text": [
            "\n",
            "Test set: Average loss: 0.0344, Accuracy: 9902/10000 (99.0200%)\n",
            "\n",
            "EPOCH:  9\n"
          ]
        },
        {
          "output_type": "stream",
          "name": "stderr",
          "text": [
            "loss=0.0371086560189724 batch_id=468: 100%|██████████| 469/469 [01:40<00:00,  4.68it/s]\n"
          ]
        },
        {
          "output_type": "stream",
          "name": "stdout",
          "text": [
            "\n",
            "Test set: Average loss: 0.0258, Accuracy: 9921/10000 (99.2100%)\n",
            "\n",
            "EPOCH:  10\n"
          ]
        },
        {
          "output_type": "stream",
          "name": "stderr",
          "text": [
            "loss=0.04877251759171486 batch_id=468: 100%|██████████| 469/469 [01:40<00:00,  4.68it/s]\n"
          ]
        },
        {
          "output_type": "stream",
          "name": "stdout",
          "text": [
            "\n",
            "Test set: Average loss: 0.0245, Accuracy: 9929/10000 (99.2900%)\n",
            "\n",
            "EPOCH:  11\n"
          ]
        },
        {
          "output_type": "stream",
          "name": "stderr",
          "text": [
            "loss=0.033225953578948975 batch_id=468: 100%|██████████| 469/469 [01:39<00:00,  4.69it/s]\n"
          ]
        },
        {
          "output_type": "stream",
          "name": "stdout",
          "text": [
            "\n",
            "Test set: Average loss: 0.0284, Accuracy: 9913/10000 (99.1300%)\n",
            "\n",
            "EPOCH:  12\n"
          ]
        },
        {
          "output_type": "stream",
          "name": "stderr",
          "text": [
            "loss=0.026190033182501793 batch_id=468: 100%|██████████| 469/469 [01:40<00:00,  4.66it/s]\n"
          ]
        },
        {
          "output_type": "stream",
          "name": "stdout",
          "text": [
            "\n",
            "Test set: Average loss: 0.0252, Accuracy: 9934/10000 (99.3400%)\n",
            "\n",
            "EPOCH:  13\n"
          ]
        },
        {
          "output_type": "stream",
          "name": "stderr",
          "text": [
            "loss=0.03852536156773567 batch_id=468: 100%|██████████| 469/469 [01:39<00:00,  4.71it/s]\n"
          ]
        },
        {
          "output_type": "stream",
          "name": "stdout",
          "text": [
            "\n",
            "Test set: Average loss: 0.0206, Accuracy: 9941/10000 (99.4100%)\n",
            "\n"
          ]
        }
      ]
    },
    {
      "cell_type": "code",
      "source": [
        "torch.save(model.state_dict(), 'model.pth')"
      ],
      "metadata": {
        "id": "mQ85JDEc4VT5"
      },
      "execution_count": 7,
      "outputs": []
    }
  ]
}